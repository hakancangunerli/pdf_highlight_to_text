{
 "cells": [
  {
   "cell_type": "code",
   "execution_count": 7,
   "metadata": {},
   "outputs": [],
   "source": [
    "import fitz  # PyMuPDF, imported as fitz for backward compatibility reasons\n",
    "file_path = \"./sarc.pdf\"\n",
    "\n",
    "mat = fitz.Matrix(300 / 72, 300 / 72)  # sets zoom factor for 300 dpi\n",
    "doc = fitz.open(file_path)  # open document\n",
    "# for all pages \n",
    "\n",
    "num_of_pages = doc.page_count\n",
    "\n",
    "\n",
    "for page in doc:\n",
    "    pix = page.get_pixmap(matrix=mat, alpha=False)  # render page to an image\n",
    "    pix.save(f\"page_{page.number}.jpg\")  # store image as a PNG"
   ]
  },
  {
   "cell_type": "code",
   "execution_count": 8,
   "metadata": {},
   "outputs": [],
   "source": [
    "import cv2\n",
    "import numpy as np\n",
    "import pytesseract\n",
    "\n",
    "\n",
    "for i in range(0, num_of_pages):\n",
    "    img = cv2.imread(f'./page_{i}.jpg')\n",
    "    lower_yellow = np.array([0, 200, 230]) # yellow\n",
    "    upper_yellow = np.array([0, 234, 255]) # yellow\n",
    "    mask = cv2.inRange(img, lower_yellow, upper_yellow)\n",
    "    result = cv2.bitwise_and(img, img, mask=mask)\n",
    "    text = pytesseract.image_to_string(result)\n",
    "    with open('extracted_text.txt', 'a') as file:\n",
    "        file.write(text)"
   ]
  }
 ],
 "metadata": {
  "kernelspec": {
   "display_name": "base",
   "language": "python",
   "name": "python3"
  },
  "language_info": {
   "codemirror_mode": {
    "name": "ipython",
    "version": 3
   },
   "file_extension": ".py",
   "mimetype": "text/x-python",
   "name": "python",
   "nbconvert_exporter": "python",
   "pygments_lexer": "ipython3",
   "version": "3.9.13"
  },
  "orig_nbformat": 4
 },
 "nbformat": 4,
 "nbformat_minor": 2
}
